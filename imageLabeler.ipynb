{
 "cells": [
  {
   "cell_type": "code",
   "execution_count": null,
   "id": "6d013db6",
   "metadata": {},
   "outputs": [],
   "source": [
    "import os\n",
    "from PIL import Image\n",
    "from PIL import ImageFile\n",
    "import pandas as pd\n",
    "from IPython.display import display"
   ]
  },
  {
   "cell_type": "code",
   "execution_count": null,
   "id": "ecefd718",
   "metadata": {},
   "outputs": [],
   "source": [
    "metadata_path = \"path to mimic-cxr-2.0.0-metadata.csv\"\n",
    "chexpert_path = \"path to mimic-cxr-2.0.0-chexpert.csv\"\n",
    "imgPath = \"FULL path to EMPTY folder where labeled images will go\"\n",
    "\n",
    "\n",
    "imgId = pd.read_csv(metadata_path)\n",
    "studyId = pd.read_csv(chexpert_path)"
   ]
  },
  {
   "cell_type": "code",
   "execution_count": null,
   "id": "12e38a8e",
   "metadata": {},
   "outputs": [],
   "source": [
    "studyId = studyId.drop([\"Support Devices\"], axis = 1)"
   ]
  },
  {
   "cell_type": "markdown",
   "id": "8a981527",
   "metadata": {},
   "source": [
    "At this point, %cd into the folder where the 512x512 unlabeled images are"
   ]
  },
  {
   "cell_type": "code",
   "execution_count": null,
   "id": "67bc9615",
   "metadata": {},
   "outputs": [],
   "source": [
    "for dirpath, dirnames, files in os.walk('.'):\n",
    "    for filename in files:\n",
    "        t = filename.split(\".\")\n",
    "        ext = t[-1]\n",
    "        name = t[0]\n",
    "        if ext in [\"jpg\"]:\n",
    "            study_id = imgId.loc[imgId['dicom_id'] == name, 'study_id'].iloc[0] \n",
    "            diseasedf = studyId.loc[studyId['study_id'] == study_id, studyId.eq(1.0).any()].dropna(axis = 1)\n",
    "            if(len(diseasedf.columns) <= 0):\n",
    "                continue\n",
    "            diseaseLabel = diseasedf.sample(axis='columns').columns.tolist()[0]\n",
    "            diseaseLabel = diseaseLabel.replace(\" \", \"\")\n",
    "            fileCount = 0\n",
    "            while os.path.isfile(\"%s\\%s_%s.jpg\" % (imgPath, diseaseLabel, fileCount)):\n",
    "                fileCount += 1\n",
    "            label = diseaseLabel + \"_\" + str(fileCount) + \".jpg\"\n",
    "            print(label)\n",
    "            os.rename(filename, os.path.join(imgPath, label))"
   ]
  },
  {
   "cell_type": "markdown",
   "id": "b9cc6617",
   "metadata": {},
   "source": [
    "Output should look something like:\n",
    "\n",
    "NoFinding_0.jpg\n",
    "<br>\n",
    "NoFinding_1.jpg\n",
    "<br>\n",
    "Cardiomegaly_0.jpg\n",
    "<br>\n",
    "LungOpacity_0.jpg\n",
    "<br>\n",
    "etc"
   ]
  },
  {
   "cell_type": "code",
   "execution_count": null,
   "id": "26d79cc1",
   "metadata": {},
   "outputs": [],
   "source": []
  }
 ],
 "metadata": {
  "kernelspec": {
   "display_name": "Python 3 (ipykernel)",
   "language": "python",
   "name": "python3"
  },
  "language_info": {
   "codemirror_mode": {
    "name": "ipython",
    "version": 3
   },
   "file_extension": ".py",
   "mimetype": "text/x-python",
   "name": "python",
   "nbconvert_exporter": "python",
   "pygments_lexer": "ipython3",
   "version": "3.9.12"
  }
 },
 "nbformat": 4,
 "nbformat_minor": 5
}
