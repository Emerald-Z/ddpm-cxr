{
 "cells": [
  {
   "cell_type": "code",
   "execution_count": null,
   "id": "9f0e6ed2",
   "metadata": {},
   "outputs": [],
   "source": [
    "import os\n",
    "from PIL import Image\n",
    "from PIL import ImageFile\n",
    "import pandas as pd\n",
    "from IPython.display import display\n",
    "import shutil"
   ]
  },
  {
   "cell_type": "code",
   "execution_count": null,
   "id": "1992b96b",
   "metadata": {},
   "outputs": [],
   "source": [
    "imgId = \"path to mimic-cxr-2.0.0-metadata.csv\"\n",
    "studyId = \"path to mimic-cxr-2.0.0-chexpert.csv\"\n",
    "labelPath = \"FULL path to EMPTY folder where labeled images will go\"\n",
    "\n",
    "imgId = pd.read_csv(imgId)\n",
    "studyId = pd.read_csv(studyId)"
   ]
  },
  {
   "cell_type": "code",
   "execution_count": null,
   "id": "f549cd00",
   "metadata": {},
   "outputs": [],
   "source": [
    "studyId = studyId.drop([\"Support Devices\"], axis = 1)"
   ]
  },
  {
   "cell_type": "markdown",
   "id": "1efbdec5",
   "metadata": {},
   "source": [
    "At this point, %cd into the folder where the 512x512 unlabeled images are"
   ]
  },
  {
   "cell_type": "code",
   "execution_count": null,
   "id": "3c55a3a7",
   "metadata": {},
   "outputs": [],
   "source": [
    "%cd [whatever path]"
   ]
  },
  {
   "cell_type": "code",
   "execution_count": null,
   "id": "b20d75b5",
   "metadata": {},
   "outputs": [],
   "source": [
    "for dirpath, dirnames, files in os.walk('.'):\n",
    "    for filename in files:\n",
    "        t = filename.split(\".\")\n",
    "        ext = t[-1]\n",
    "        name = t[0]\n",
    "        if ext in [\"jpg\"]:\n",
    "            study_id = imgId.loc[imgId['dicom_id'] == name, 'study_id'].iloc[0] \n",
    "            diseasedf = studyId.loc[studyId['study_id'] == study_id, studyId.eq(1.0).any()].dropna(axis = 1)\n",
    "            if(len(diseasedf.columns) <= 0):\n",
    "                continue\n",
    "            diseaseLabel = diseasedf.sample(axis='columns').columns.tolist()[0]\n",
    "            diseaseLabel = diseaseLabel.replace(\" \", \"\")\n",
    "            fileCount = 1\n",
    "            while os.path.isfile(\"%s\\%s_%s.jpg\" % (labelPath, diseaseLabel, fileCount)):\n",
    "                fileCount += 1\n",
    "            label = diseaseLabel + \"_\" + str(fileCount) + \".jpg\"\n",
    "            print(label)\n",
    "            shutil.copy(filename, os.path.join(labelPath, label))"
   ]
  },
  {
   "cell_type": "markdown",
   "id": "4c109791",
   "metadata": {},
   "source": [
    "Output should look something like:\n",
    "<br>\n",
    "<br>\n",
    "NoFinding_1.jpg\n",
    "<br>\n",
    "NoFinding_2.jpg\n",
    "<br>\n",
    "Cardiomegaly_1.jpg\n",
    "<br>\n",
    "LungOpacity_1.jpg\n",
    "<br>\n",
    "etc"
   ]
  },
  {
   "cell_type": "code",
   "execution_count": null,
   "id": "8b76f8f4",
   "metadata": {},
   "outputs": [],
   "source": []
  }
 ],
 "metadata": {
  "kernelspec": {
   "display_name": "Python 3 (ipykernel)",
   "language": "python",
   "name": "python3"
  },
  "language_info": {
   "codemirror_mode": {
    "name": "ipython",
    "version": 3
   },
   "file_extension": ".py",
   "mimetype": "text/x-python",
   "name": "python",
   "nbconvert_exporter": "python",
   "pygments_lexer": "ipython3",
   "version": "3.9.12"
  }
 },
 "nbformat": 4,
 "nbformat_minor": 5
}
