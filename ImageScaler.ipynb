{
  "nbformat": 4,
  "nbformat_minor": 0,
  "metadata": {
    "colab": {
      "provenance": []
    },
    "kernelspec": {
      "name": "python3",
      "display_name": "Python 3"
    },
    "language_info": {
      "name": "python"
    }
  },
  "cells": [
    {
      "cell_type": "markdown",
      "source": [
        "Import requirements:\n",
        "```\n",
        "from google.colab import drive\n",
        "drive.mount('/content/gdrive',force_remount=True)\n",
        "from google.colab import files\n",
        "import os\n",
        "from PIL import Image\n",
        "```\n"
      ],
      "metadata": {
        "id": "oofwKQy7qvDe"
      }
    },
    {
      "cell_type": "code",
      "source": [
        "from google.colab import drive\n",
        "drive.mount('/content/gdrive',force_remount=True)\n",
        "from google.colab import files\n",
        "import os\n",
        "from PIL import Image"
      ],
      "metadata": {
        "id": "hKWR_kDzrDrZ"
      },
      "execution_count": null,
      "outputs": []
    },
    {
      "cell_type": "markdown",
      "source": [
        "Run the script from physionet:\n",
        "\n",
        "\n",
        "```\n",
        "! wget -r -N -c -np --user [*physionet username*] --ask-password https://physionet.org/files/mimic-cxr-jpg/2.0.0/files/[*folder*]/\n",
        "\n",
        "Example: \n",
        "! wget -r -N -c -np --user jmv415 --ask-password https://physionet.org/files/mimic-cxr-jpg/2.0.0/files/p10/\n",
        "```\n",
        "\n",
        "This download will take a while. It's around 20 GB I think. It will make a folder with this path, assuming that your working directory is /content/\n",
        "\n",
        "\"/content/physionet.org/files/mimic-cxr-jpg/2.0.0/files/[*folder*]\"\n",
        "\n",
        "**AFTER THIS, %CD INTO THIS DIRECTORY:**\n",
        "\n",
        "\n",
        "```\n",
        "%cd physionet.org/files/mimic-cxr-jpg/2.0.0/files\n",
        "```\n",
        "\n",
        "\n",
        "\n"
      ],
      "metadata": {
        "id": "kkX4XhRcqIrW"
      }
    },
    {
      "cell_type": "code",
      "source": [
        "! wget -r -N -c -np --user [*physionet username*] --ask-password https://physionet.org/files/mimic-cxr-jpg/2.0.0/files/[*folder*]/"
      ],
      "metadata": {
        "id": "z0niaOUYt6tM"
      },
      "execution_count": null,
      "outputs": []
    },
    {
      "cell_type": "code",
      "source": [
        "%cd physionet.org/files/mimic-cxr-jpg/2.0.0/files"
      ],
      "metadata": {
        "id": "DVMIQttYt7PT"
      },
      "execution_count": null,
      "outputs": []
    },
    {
      "cell_type": "markdown",
      "source": [
        "After the download, you need to make a new folder next to where the folder with the mimic JPGs is.\n",
        "\n",
        "Example path:\n",
        "\"/content/physionet.org/files/mimic-cxr-jpg/2.0.0/files/resizedImages\"\n",
        "\n",
        "Then, replace [new folder] with your new folder name in the code below and run it"
      ],
      "metadata": {
        "id": "2p8Qnq0Er5we"
      }
    },
    {
      "cell_type": "code",
      "execution_count": null,
      "metadata": {
        "id": "oLBEb7X4qDxY"
      },
      "outputs": [],
      "source": [
        "resizedImagePath = \"/content/physionet.org/files/mimic-cxr-jpg/2.0.0/files/[new folder]\"\n",
        "for dirpath, dirnames, files in os.walk('.'):\n",
        "    for filename in files:\n",
        "        t = filename.split(\".\")\n",
        "        ext = t[-1]\n",
        "        if ext in [\"jpg\"]:\n",
        "            print(filename)\n",
        "            path = os.path.join(dirpath, filename)\n",
        "            newpath = os.path.join(resizedImagePath, filename)\n",
        "            image_obj = Image.open(path)\n",
        "            resized_image =image_obj.resize([128,128])\n",
        "            # name = \"./data2\" + str(i) +\".jpg\"\n",
        "            resized_image.save(newpath)"
      ]
    },
    {
      "cell_type": "markdown",
      "source": [
        "The code above should fill the new folder with scaled versions of the mimic images without any of the nested folder structure. The names should also be the same"
      ],
      "metadata": {
        "id": "db-5kKlKunVv"
      }
    },
    {
      "cell_type": "markdown",
      "source": [
        "Next, zip the folder with the new images and copy it either to drive or just click download on the files on the left\n",
        "\n",
        "Example:\n",
        "\n",
        "\n",
        "```\n",
        "!zip -r rescaledImages.zip rescaledp10\n",
        "```\n",
        "\n"
      ],
      "metadata": {
        "id": "0c3tnr-tDUkz"
      }
    },
    {
      "cell_type": "code",
      "source": [
        "!zip -r rescaledImages.zip [folder with rescaled images]"
      ],
      "metadata": {
        "id": "moCTxJasDL5H"
      },
      "execution_count": null,
      "outputs": []
    },
    {
      "cell_type": "code",
      "source": [
        "!cp rescaledImages.zip '/content/gdrive/My Drive/'"
      ],
      "metadata": {
        "id": "Sbz11qSZEAn5"
      },
      "execution_count": null,
      "outputs": []
    }
  ]
}